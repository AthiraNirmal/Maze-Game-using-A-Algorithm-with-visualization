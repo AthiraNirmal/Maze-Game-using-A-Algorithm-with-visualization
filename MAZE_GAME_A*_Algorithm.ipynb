{
 "cells": [
  {
   "cell_type": "code",
   "execution_count": 1,
   "id": "6655f329",
   "metadata": {},
   "outputs": [],
   "source": [
    "matrix =[[ 6,5,40],\n",
    "          [ 1,-20,2],\n",
    "        [1,10,3]]"
   ]
  },
  {
   "cell_type": "code",
   "execution_count": 2,
   "id": "a0e1641a",
   "metadata": {},
   "outputs": [],
   "source": [
    "def ispossibleVisit(ind1, ind2):\n",
    "    val=[ind1,ind2]\n",
    "    if ind1<0 or ind2<0 or ind1>=len(matrix[0]) or ind2>=len(matrix) or val in dummy_list:\n",
    "        return False\n",
    "    else:\n",
    "        return True"
   ]
  },
  {
   "cell_type": "code",
   "execution_count": 3,
   "id": "ec409172",
   "metadata": {},
   "outputs": [],
   "source": [
    "def Astar():\n",
    "    for ele in open_list:\n",
    "        a=ele[0]\n",
    "        b=ele[1]\n",
    "        h_val=f_val[a][b]\n",
    "        closed_list.append([a,b])\n",
    "        open_list.remove([a,b])\n",
    "        if ele==[2,1]:\n",
    "            open_list.clear()\n",
    "            return 0\n",
    "        if ispossibleVisit((a+1),b):\n",
    "            child_nodes.append([a+1,b])\n",
    "        if ispossibleVisit(a,(b+1)):\n",
    "            child_nodes.append([a,b+1])\n",
    "        if ispossibleVisit((a-1),b):\n",
    "            child_nodes.append([a-1,b])\n",
    "        if ispossibleVisit(a,(b-1)):\n",
    "            child_nodes.append([a,b-1])\n",
    "        \n",
    "        for child in child_nodes:\n",
    "            if child in closed_list:\n",
    "                return\n",
    "            x=child[0]\n",
    "            y=child[1]\n",
    "            g_val=matrix[x][y]\n",
    "            f_val[x][y]=g_val+h_val\n",
    "        m=matrix[x][y]\n",
    "        flag=0\n",
    "        for child in child_nodes:\n",
    "            x1=child[0]\n",
    "            y1=child[1]\n",
    "            if matrix[x1][y1]>=m:\n",
    "                index1=x1\n",
    "                index2=y1\n",
    "                open_list1=[[index1,index2]]\n",
    "                dummy_list.append([index1,index2])\n",
    "                if flag==1:\n",
    "                    open_list1.clear()\n",
    "                    open_list1=[[index1,index2]]\n",
    "                    \n",
    "                flag=1\n",
    "                m=matrix[x1][y1]\n",
    "        open_list.extend(open_list1)\n",
    "        dummy_list.extend(open_list1)\n",
    "        open_list1.clear()\n",
    "        child_nodes.clear()\n",
    "        Astar()"
   ]
  },
  {
   "cell_type": "code",
   "execution_count": 4,
   "id": "affdc0c8",
   "metadata": {},
   "outputs": [
    {
     "name": "stdout",
     "output_type": "stream",
     "text": [
      "The Path Matrix Node Is:  [[0, 0], [0, 1], [0, 2], [1, 2], [2, 2], [2, 1]]\n",
      "The Maximum Points: 56\n"
     ]
    }
   ],
   "source": [
    "child_nodes=[]\n",
    "open_list=[[0,0]]\n",
    "closed_list=[[]]\n",
    "dummy_list=[[0,0]]\n",
    "h_val=0\n",
    "f_val=[[6,0,0],\n",
    "       [0,0,0],\n",
    "       [0,0,0]]\n",
    "g_val=0\n",
    "Astar()\n",
    "closed_list.pop(0)\n",
    "print(\"The Path Matrix Node Is: \",closed_list)\n",
    "win=f_val.pop()\n",
    "point=win[-1]\n",
    "print(\"The Maximum Points:\", point)"
   ]
  },
  {
   "cell_type": "code",
   "execution_count": 5,
   "id": "10808708",
   "metadata": {},
   "outputs": [],
   "source": [
    "import turtle\n",
    "\n",
    "TURTLE_SIZE = 20\n",
    "def draw_box(t,x,y,size,fill_color):\n",
    "    t.penup() \n",
    "    t.goto(x,-y) \n",
    "    t.pendown() \n",
    " \n",
    "    t.fillcolor(fill_color)\n",
    "    t.begin_fill()  \n",
    " \n",
    "    for i in range(0,4):\n",
    "        maze.forward(size) \n",
    "        maze.right(90) \n",
    " \n",
    "    t.end_fill() \n",
    " \n",
    " \n",
    "def draw_maze():\n",
    "    square_color = \"blue\" \n",
    "    start_x = -200 \n",
    "    start_y = -150 \n",
    "    box_size = 50 \n",
    "    for i in range(0,3):\n",
    "        for j in range(0,3):\n",
    "            draw_box(maze,start_x+j*box_size,start_y+i*box_size,box_size,square_color)\n",
    "    for ele in closed_list:\n",
    "        o1=ele[0]\n",
    "        o2=ele[1]\n",
    "        for i in range(0,3):\n",
    "            for j in range(0,3):\n",
    "                if i==(o1) and j==(o2):\n",
    "                    square_color = 'red'\n",
    "                    draw_box(maze,start_x+j*box_size,start_y+i*box_size,box_size,square_color)\n",
    "    \n",
    "\n",
    "\n",
    "window = turtle.Screen()\n",
    "# turtle.screensize(canvwidth=30, canvheight=30)\n",
    "window.bgcolor(\"light green\")\n",
    "window.title(\"MAZE PATH\")\n",
    "\n",
    "maze = turtle.Turtle()\n",
    "\n",
    "# str= 'Maximum Points in the Maze:'+point\n",
    "maze.write(\"Maze path with largest points\",font=(\"Calibri\", 15, \"bold\"))\n",
    "\n",
    "draw_maze()\n",
    "turtle.done()"
   ]
  },
  {
   "cell_type": "code",
   "execution_count": null,
   "id": "3c77af33",
   "metadata": {},
   "outputs": [],
   "source": []
  }
 ],
 "metadata": {
  "kernelspec": {
   "display_name": "Python 3 (ipykernel)",
   "language": "python",
   "name": "python3"
  },
  "language_info": {
   "codemirror_mode": {
    "name": "ipython",
    "version": 3
   },
   "file_extension": ".py",
   "mimetype": "text/x-python",
   "name": "python",
   "nbconvert_exporter": "python",
   "pygments_lexer": "ipython3",
   "version": "3.9.7"
  }
 },
 "nbformat": 4,
 "nbformat_minor": 5
}
